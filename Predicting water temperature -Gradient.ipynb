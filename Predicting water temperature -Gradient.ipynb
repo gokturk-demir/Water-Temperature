{
 "cells": [
  {
   "cell_type": "markdown",
   "metadata": {},
   "source": [
    "# Part A: Data Cleaning "
   ]
  },
  {
   "cell_type": "code",
   "execution_count": 163,
   "metadata": {},
   "outputs": [],
   "source": [
    "import pandas as pd\n",
    "import matplotlib.pyplot as plt\n",
    "import seaborn as sns\n",
    "import numpy as np\n",
    "from sklearn import metrics\n",
    "from sklearn import linear_model\n",
    "from sklearn.model_selection import train_test_split\n",
    "from sklearn.preprocessing import StandardScaler"
   ]
  },
  {
   "cell_type": "code",
   "execution_count": 164,
   "metadata": {},
   "outputs": [
    {
     "name": "stderr",
     "output_type": "stream",
     "text": [
      "C:\\Users\\Gokturk\\Anaconda3\\lib\\site-packages\\IPython\\core\\interactiveshell.py:2785: DtypeWarning: Columns (47,73) have mixed types. Specify dtype option on import or set low_memory=False.\n",
      "  interactivity=interactivity, compiler=compiler, result=result)\n"
     ]
    }
   ],
   "source": [
    "df = pd.read_csv('bottle.csv')"
   ]
  },
  {
   "cell_type": "code",
   "execution_count": 165,
   "metadata": {},
   "outputs": [
    {
     "data": {
      "text/plain": [
       "(864863, 74)"
      ]
     },
     "execution_count": 165,
     "metadata": {},
     "output_type": "execute_result"
    }
   ],
   "source": [
    "df.shape"
   ]
  },
  {
   "cell_type": "code",
   "execution_count": 166,
   "metadata": {},
   "outputs": [],
   "source": [
    "df1=df[['T_degC', 'Salnty', 'STheta','O2ml_L', 'Depthm'] ]"
   ]
  },
  {
   "cell_type": "code",
   "execution_count": 167,
   "metadata": {},
   "outputs": [
    {
     "data": {
      "text/html": [
       "<div>\n",
       "<style scoped>\n",
       "    .dataframe tbody tr th:only-of-type {\n",
       "        vertical-align: middle;\n",
       "    }\n",
       "\n",
       "    .dataframe tbody tr th {\n",
       "        vertical-align: top;\n",
       "    }\n",
       "\n",
       "    .dataframe thead th {\n",
       "        text-align: right;\n",
       "    }\n",
       "</style>\n",
       "<table border=\"1\" class=\"dataframe\">\n",
       "  <thead>\n",
       "    <tr style=\"text-align: right;\">\n",
       "      <th></th>\n",
       "      <th>T_degC</th>\n",
       "      <th>Salnty</th>\n",
       "      <th>STheta</th>\n",
       "      <th>O2ml_L</th>\n",
       "      <th>Depthm</th>\n",
       "    </tr>\n",
       "  </thead>\n",
       "  <tbody>\n",
       "    <tr>\n",
       "      <th>0</th>\n",
       "      <td>10.50</td>\n",
       "      <td>33.440</td>\n",
       "      <td>25.649</td>\n",
       "      <td>NaN</td>\n",
       "      <td>0</td>\n",
       "    </tr>\n",
       "    <tr>\n",
       "      <th>1</th>\n",
       "      <td>10.46</td>\n",
       "      <td>33.440</td>\n",
       "      <td>25.656</td>\n",
       "      <td>NaN</td>\n",
       "      <td>8</td>\n",
       "    </tr>\n",
       "    <tr>\n",
       "      <th>2</th>\n",
       "      <td>10.46</td>\n",
       "      <td>33.437</td>\n",
       "      <td>25.654</td>\n",
       "      <td>NaN</td>\n",
       "      <td>10</td>\n",
       "    </tr>\n",
       "    <tr>\n",
       "      <th>3</th>\n",
       "      <td>10.45</td>\n",
       "      <td>33.420</td>\n",
       "      <td>25.643</td>\n",
       "      <td>NaN</td>\n",
       "      <td>19</td>\n",
       "    </tr>\n",
       "    <tr>\n",
       "      <th>4</th>\n",
       "      <td>10.45</td>\n",
       "      <td>33.421</td>\n",
       "      <td>25.643</td>\n",
       "      <td>NaN</td>\n",
       "      <td>20</td>\n",
       "    </tr>\n",
       "  </tbody>\n",
       "</table>\n",
       "</div>"
      ],
      "text/plain": [
       "   T_degC  Salnty  STheta  O2ml_L  Depthm\n",
       "0   10.50  33.440  25.649     NaN       0\n",
       "1   10.46  33.440  25.656     NaN       8\n",
       "2   10.46  33.437  25.654     NaN      10\n",
       "3   10.45  33.420  25.643     NaN      19\n",
       "4   10.45  33.421  25.643     NaN      20"
      ]
     },
     "execution_count": 167,
     "metadata": {},
     "output_type": "execute_result"
    }
   ],
   "source": [
    "df1.head()"
   ]
  },
  {
   "cell_type": "code",
   "execution_count": 168,
   "metadata": {},
   "outputs": [],
   "source": [
    "df2 = df1.dropna()"
   ]
  },
  {
   "cell_type": "code",
   "execution_count": 169,
   "metadata": {},
   "outputs": [
    {
     "data": {
      "text/plain": [
       "(661268, 5)"
      ]
     },
     "execution_count": 169,
     "metadata": {},
     "output_type": "execute_result"
    }
   ],
   "source": [
    "df2.shape"
   ]
  },
  {
   "cell_type": "code",
   "execution_count": 170,
   "metadata": {},
   "outputs": [
    {
     "data": {
      "text/plain": [
       "Series([], Name: STheta, dtype: float64)"
      ]
     },
     "execution_count": 170,
     "metadata": {},
     "output_type": "execute_result"
    }
   ],
   "source": [
    "#filtering outliers, \n",
    "df2.STheta[df2.STheta>30]"
   ]
  },
  {
   "cell_type": "code",
   "execution_count": 171,
   "metadata": {},
   "outputs": [
    {
     "data": {
      "text/plain": [
       "Text(0,0.5,'T_degC')"
      ]
     },
     "execution_count": 171,
     "metadata": {},
     "output_type": "execute_result"
    },
    {
     "data": {
      "image/png": "[encoded data removed]",
      "text/plain": [
       "<Figure size 432x288 with 1 Axes>"
      ]
     },
     "metadata": {},
     "output_type": "display_data"
    }
   ],
   "source": [
    "plt.scatter(df2.STheta,df2.T_degC, alpha =0.5)\n",
    "plt.xlabel('STheta ')\n",
    "plt.ylabel('T_degC')\n",
    "\n",
    "#No outliers seen"
   ]
  },
  {
   "cell_type": "markdown",
   "metadata": {},
   "source": [
    "# Part B: Train & Test Split and Scaling"
   ]
  },
  {
   "cell_type": "code",
   "execution_count": 172,
   "metadata": {},
   "outputs": [
    {
     "name": "stderr",
     "output_type": "stream",
     "text": [
      "C:\\Users\\Gokturk\\Anaconda3\\lib\\site-packages\\ipykernel_launcher.py:1: FutureWarning: Method .as_matrix will be removed in a future version. Use .values instead.\n",
      "  \"\"\"Entry point for launching an IPython kernel.\n",
      "C:\\Users\\Gokturk\\Anaconda3\\lib\\site-packages\\ipykernel_launcher.py:2: FutureWarning: Method .as_matrix will be removed in a future version. Use .values instead.\n",
      "  \n"
     ]
    }
   ],
   "source": [
    "X = df2.drop('T_degC', axis =1).as_matrix()\n",
    "y = df2[['T_degC']].as_matrix()"
   ]
  },
  {
   "cell_type": "code",
   "execution_count": 173,
   "metadata": {},
   "outputs": [
    {
     "name": "stdout",
     "output_type": "stream",
     "text": [
      "(661268, 4)\n",
      "(661268, 1)\n"
     ]
    },
    {
     "data": {
      "text/plain": [
       "(None, None)"
      ]
     },
     "execution_count": 173,
     "metadata": {},
     "output_type": "execute_result"
    }
   ],
   "source": [
    "print(X.shape), print(y.shape)"
   ]
  },
  {
   "cell_type": "code",
   "execution_count": 174,
   "metadata": {},
   "outputs": [],
   "source": [
    "X_train, X_test, y_train, y_test = train_test_split(X,y, test_size =0.2, random_state = 123 )"
   ]
  },
  {
   "cell_type": "code",
   "execution_count": 175,
   "metadata": {},
   "outputs": [],
   "source": [
    "scaling_tool = StandardScaler()\n"
   ]
  },
  {
   "cell_type": "code",
   "execution_count": 176,
   "metadata": {},
   "outputs": [],
   "source": [
    "X_train_scaled = scaling_tool.fit_transform(X_train)\n",
    "X_test_scaled = scaling_tool.transform(X_test)\n"
   ]
  },
  {
   "cell_type": "markdown",
   "metadata": {},
   "source": [
    "# Part C: Linear Regression with sklearn"
   ]
  },
  {
   "cell_type": "code",
   "execution_count": 177,
   "metadata": {},
   "outputs": [
    {
     "data": {
      "text/plain": [
       "LinearRegression(copy_X=True, fit_intercept=True, n_jobs=1, normalize=False)"
      ]
     },
     "execution_count": 177,
     "metadata": {},
     "output_type": "execute_result"
    }
   ],
   "source": [
    "lin_reg = linear_model.LinearRegression()\n",
    "lin_reg.fit(X_train_scaled,y_train)"
   ]
  },
  {
   "cell_type": "code",
   "execution_count": 178,
   "metadata": {},
   "outputs": [
    {
     "name": "stdout",
     "output_type": "stream",
     "text": [
      "Intercept:  [10.9179667]\n",
      "Coefficients:  [[ 1.63043225 -4.63280759  0.30147163 -0.47464559]]\n"
     ]
    }
   ],
   "source": [
    "print(\"Intercept: \", lin_reg.intercept_)\n",
    "print(\"Coefficients: \", lin_reg.coef_)"
   ]
  },
  {
   "cell_type": "code",
   "execution_count": 179,
   "metadata": {},
   "outputs": [
    {
     "data": {
      "text/plain": [
       "array([[21.05219343],\n",
       "       [ 8.93574178],\n",
       "       [16.64404203],\n",
       "       ...,\n",
       "       [ 8.46213933],\n",
       "       [ 3.86698107],\n",
       "       [ 2.02032658]])"
      ]
     },
     "execution_count": 179,
     "metadata": {},
     "output_type": "execute_result"
    }
   ],
   "source": [
    "y_pred_sklearn = lin_reg.predict(X_test_scaled)\n",
    "y_pred_sklearn"
   ]
  },
  {
   "cell_type": "code",
   "execution_count": 180,
   "metadata": {},
   "outputs": [
    {
     "name": "stdout",
     "output_type": "stream",
     "text": [
      "MSE : 0.11162986873073971\n",
      "R-squared  : 0.9937471006319525\n",
      "Explained Variance  : 0.9937471249077593\n"
     ]
    }
   ],
   "source": [
    "#mean squared error\n",
    "print(\"MSE :\", metrics.mean_squared_error(y_test,y_pred_sklearn))\n",
    "\n",
    "#r-squared\n",
    "print(\"R-squared  :\",metrics.r2_score(y_test,y_pred_sklearn))\n",
    "\n",
    "#explained variance\n",
    "print(\"Explained Variance  :\", metrics.explained_variance_score(y_test,y_pred_sklearn))"
   ]
  },
  {
   "cell_type": "code",
   "execution_count": 181,
   "metadata": {},
   "outputs": [
    {
     "data": {
      "image/png": "[encoded data removed]",
      "text/plain": [
       "<Figure size 432x288 with 1 Axes>"
      ]
     },
     "metadata": {},
     "output_type": "display_data"
    }
   ],
   "source": [
    "plt.scatter(y_test, y_pred_sklearn) \n",
    "plt.show()"
   ]
  },
  {
   "cell_type": "markdown",
   "metadata": {},
   "source": [
    "# Part D: Gradient Descent Mini-Batch"
   ]
  },
  {
   "cell_type": "code",
   "execution_count": 182,
   "metadata": {},
   "outputs": [],
   "source": [
    "X_b = np.c_[np.ones((len(X_train_scaled), 1)), X_train_scaled]\n",
    "X_new_b  = np.c_[np.ones((len(X_test), 1)), X_test_scaled]"
   ]
  },
  {
   "cell_type": "code",
   "execution_count": 183,
   "metadata": {},
   "outputs": [],
   "source": [
    "# mini-batch size  50 \n",
    "\n",
    "n_iterations = 100\n",
    "minibatch_size = 50\n",
    "np.random.seed(42)\n",
    "eta=0.1\n",
    "m=len(y_train)\n",
    "theta = np.random.randn(5,1)  # random initialization\n",
    "\n",
    "for epoch in range(n_iterations):\n",
    "    shuffled_indices = np.random.permutation(m)\n",
    "    X_b_shuffled = X_b[shuffled_indices]\n",
    "    y_shuffled = y_train[shuffled_indices]\n",
    "    for i in range(0, m, minibatch_size):\n",
    "        xi = X_b_shuffled[i:i+minibatch_size]\n",
    "        yi = y_shuffled[i:i+minibatch_size]\n",
    "        gradients = 2/minibatch_size * xi.T.dot(xi.dot(theta) - yi)\n",
    "        theta = theta - eta * gradients"
   ]
  },
  {
   "cell_type": "code",
   "execution_count": 184,
   "metadata": {},
   "outputs": [],
   "source": [
    "# predict\n",
    "y_pred = X_new_b.dot(theta)"
   ]
  },
  {
   "cell_type": "code",
   "execution_count": 185,
   "metadata": {},
   "outputs": [
    {
     "name": "stdout",
     "output_type": "stream",
     "text": [
      "MSE : 0.11301000352520174\n",
      "R-squared  : 0.9936697929715366\n",
      "Explained Variance  : 0.9936865906197633\n"
     ]
    }
   ],
   "source": [
    "# Performance of prediction on test data\n",
    "\n",
    "#mean squared error\n",
    "print(\"MSE :\", metrics.mean_squared_error(y_test,y_pred))\n",
    "\n",
    "#r-squared\n",
    "print(\"R-squared  :\",metrics.r2_score(y_test,y_pred))\n",
    "\n",
    "#explained variance\n",
    "print(\"Explained Variance  :\", metrics.explained_variance_score(y_test,y_pred))\n"
   ]
  },
  {
   "cell_type": "code",
   "execution_count": 186,
   "metadata": {},
   "outputs": [
    {
     "name": "stdout",
     "output_type": "stream",
     "text": [
      "MSE : 0.11070988206178442\n",
      "R-squared  : 0.9937960778150767\n",
      "Explained Variance  : 0.993796136593822\n"
     ]
    }
   ],
   "source": [
    "# Performance of prediction on train data\n",
    "\n",
    "#mean squared error \n",
    "print(\"MSE :\", metrics.mean_squared_error(y_train,y_pred_train))\n",
    "\n",
    "#r-squared \n",
    "print(\"R-squared  :\",metrics.r2_score(y_train,y_pred_train))\n",
    "\n",
    "#explained variance \n",
    "print(\"Explained Variance  :\", metrics.explained_variance_score(y_train,y_pred_train))"
   ]
  },
  {
   "cell_type": "code",
   "execution_count": 187,
   "metadata": {
    "scrolled": true
   },
   "outputs": [
    {
     "data": {
      "image/png": "[encoded data removed]",
      "text/plain": [
       "<Figure size 432x288 with 1 Axes>"
      ]
     },
     "metadata": {},
     "output_type": "display_data"
    }
   ],
   "source": [
    "plt.scatter(y_test, y_pred)\n",
    "plt.title(\"Actual vs Predicted  T_degC\")\n",
    "plt.show()"
   ]
  },
  {
   "cell_type": "code",
   "execution_count": 188,
   "metadata": {},
   "outputs": [],
   "source": [
    "# mini-batch size 250\n",
    "\n",
    "n_iterations = 100\n",
    "minibatch_size = 250\n",
    "np.random.seed(42)\n",
    "eta=0.1\n",
    "m=len(y_train)\n",
    "theta = np.random.randn(5,1)  # random initialization\n",
    "\n",
    "for epoch in range(n_iterations):\n",
    "    shuffled_indices = np.random.permutation(m)\n",
    "    X_b_shuffled = X_b[shuffled_indices]\n",
    "    y_shuffled = y_train[shuffled_indices]\n",
    "    for i in range(0, m, minibatch_size):\n",
    "        xi = X_b_shuffled[i:i+minibatch_size]\n",
    "        yi = y_shuffled[i:i+minibatch_size]\n",
    "        gradients = 2/minibatch_size * xi.T.dot(xi.dot(theta) - yi)\n",
    "        theta = theta - eta * gradients\n"
   ]
  },
  {
   "cell_type": "code",
   "execution_count": 189,
   "metadata": {},
   "outputs": [],
   "source": [
    "# predict\n",
    "y_pred = X_new_b.dot(theta)"
   ]
  },
  {
   "cell_type": "code",
   "execution_count": 190,
   "metadata": {},
   "outputs": [
    {
     "name": "stdout",
     "output_type": "stream",
     "text": [
      "MSE : 0.11281027988792036\n",
      "R-squared  : 0.9936809804056843\n",
      "Explained Variance  : 0.9936833636781942\n"
     ]
    }
   ],
   "source": [
    "# Performance of prediction on test data\n",
    "\n",
    "#mean squared error\n",
    "print(\"MSE :\", metrics.mean_squared_error(y_test,y_pred))\n",
    "\n",
    "#r-squared\n",
    "print(\"R-squared  :\",metrics.r2_score(y_test,y_pred))\n",
    "\n",
    "#explained variance\n",
    "print(\"Explained Variance  :\", metrics.explained_variance_score(y_test,y_pred))"
   ]
  },
  {
   "cell_type": "code",
   "execution_count": 191,
   "metadata": {},
   "outputs": [
    {
     "name": "stdout",
     "output_type": "stream",
     "text": [
      "MSE : 0.11070988206178442\n",
      "R-squared  : 0.9937960778150767\n",
      "Explained Variance  : 0.993796136593822\n"
     ]
    }
   ],
   "source": [
    "# Performance of prediction on train data\n",
    "\n",
    "#mean squared error \n",
    "print(\"MSE :\", metrics.mean_squared_error(y_train,y_pred_train))\n",
    "\n",
    "#r-squared \n",
    "print(\"R-squared  :\",metrics.r2_score(y_train,y_pred_train))\n",
    "\n",
    "#explained variance \n",
    "print(\"Explained Variance  :\", metrics.explained_variance_score(y_train,y_pred_train))"
   ]
  },
  {
   "cell_type": "code",
   "execution_count": 192,
   "metadata": {},
   "outputs": [
    {
     "data": {
      "image/png": "[encoded data removed]",
      "text/plain": [
       "<Figure size 432x288 with 1 Axes>"
      ]
     },
     "metadata": {},
     "output_type": "display_data"
    }
   ],
   "source": [
    "plt.scatter(y_test, y_pred)\n",
    "plt.title(\"Actual vs Predicted  T_degC\")\n",
    "plt.show()"
   ]
  },
  {
   "cell_type": "code",
   "execution_count": 193,
   "metadata": {},
   "outputs": [],
   "source": [
    "# mini-batch size 2000\n",
    "\n",
    "n_iterations = 100\n",
    "minibatch_size = 2000\n",
    "np.random.seed(42)\n",
    "eta=0.1\n",
    "m=len(y_train)\n",
    "theta = np.random.randn(5,1)  # random initialization\n",
    "\n",
    "for epoch in range(n_iterations):\n",
    "    shuffled_indices = np.random.permutation(m)\n",
    "    X_b_shuffled = X_b[shuffled_indices]\n",
    "    y_shuffled = y_train[shuffled_indices]\n",
    "    for i in range(0, m, minibatch_size):\n",
    "        xi = X_b_shuffled[i:i+minibatch_size]\n",
    "        yi = y_shuffled[i:i+minibatch_size]\n",
    "        gradients = 2/minibatch_size * xi.T.dot(xi.dot(theta) - yi)\n",
    "        theta = theta - eta * gradients\n",
    "\n"
   ]
  },
  {
   "cell_type": "code",
   "execution_count": 194,
   "metadata": {},
   "outputs": [],
   "source": [
    "# predict on test\n",
    "y_pred = X_new_b.dot(theta)"
   ]
  },
  {
   "cell_type": "code",
   "execution_count": 195,
   "metadata": {},
   "outputs": [],
   "source": [
    "# predict on train\n",
    "y_pred_train = X_b.dot(theta)"
   ]
  },
  {
   "cell_type": "code",
   "execution_count": 196,
   "metadata": {},
   "outputs": [
    {
     "name": "stdout",
     "output_type": "stream",
     "text": [
      "MSE : 0.11195810469182528\n",
      "R-squared  : 0.9937287146349342\n",
      "Explained Variance  : 0.9937288764428088\n"
     ]
    }
   ],
   "source": [
    "# Performance of prediction on test data\n",
    "\n",
    "#mean squared error test\n",
    "print(\"MSE :\", metrics.mean_squared_error(y_test,y_pred))\n",
    "\n",
    "#r-squared test\n",
    "print(\"R-squared  :\",metrics.r2_score(y_test,y_pred))\n",
    "\n",
    "#explained variance test\n",
    "print(\"Explained Variance  :\", metrics.explained_variance_score(y_test,y_pred))"
   ]
  },
  {
   "cell_type": "code",
   "execution_count": 197,
   "metadata": {},
   "outputs": [
    {
     "name": "stdout",
     "output_type": "stream",
     "text": [
      "MSE : 0.11070988206178442\n",
      "R-squared  : 0.9937960778150767\n",
      "Explained Variance  : 0.993796136593822\n"
     ]
    }
   ],
   "source": [
    "# Performance of prediction on train data\n",
    "\n",
    "#mean squared error train\n",
    "print(\"MSE :\", metrics.mean_squared_error(y_train,y_pred_train))\n",
    "\n",
    "#r-squared train\n",
    "print(\"R-squared  :\",metrics.r2_score(y_train,y_pred_train))\n",
    "\n",
    "#explained variance train\n",
    "print(\"Explained Variance  :\", metrics.explained_variance_score(y_train,y_pred_train))"
   ]
  },
  {
   "cell_type": "code",
   "execution_count": 198,
   "metadata": {},
   "outputs": [
    {
     "data": {
      "image/png": "[encoded data removed]",
      "text/plain": [
       "<Figure size 432x288 with 1 Axes>"
      ]
     },
     "metadata": {},
     "output_type": "display_data"
    }
   ],
   "source": [
    "plt.scatter(y_test, y_pred)\n",
    "plt.title(\"Actual vs Predicted  T_degC\")\n",
    "plt.show()"
   ]
  },
  {
   "cell_type": "markdown",
   "metadata": {},
   "source": [
    "# Part E: Conceptual Questions"
   ]
  },
  {
   "cell_type": "markdown",
   "metadata": {},
   "source": [
    "1) Describe how parameter estimation in Gradient Descent differs from using the normal equation.\n",
    "\n",
    "Both of them tries to minimize the cost function.\n",
    "\n",
    "Gradient Descent takes steps proportional to the negative of the gradient (or approximate gradient) of the function at the current point to find a local minimum of a function .\n",
    "\n",
    "Gradient Descent first initialize the weights(coefficients) in the function with random values and calculate Error (SSE).It then calculates the gradient/change in SSE when the weights(coefficients) are changed by a very small value from their original randomly initialized value. This moves the values of coefficients in the direction in which SSE is minimized. It then adjusts the weights with the gradients to reach the optimal values where SSE is minimized. After this, new weights are used to predict and calculate the new SSE. These steps are repeated till further adjustments to weights doesn’t significantly reduce the error.\n",
    "\n",
    "As seen, Gradient Descent is an iterative process whereas normal equation is an analytical process. \n",
    "\n",
    "\n",
    "2) We used Mini-Batch Gradient descent here, but there are a variety of options for Gradient Descent. How is Mini-Batch Gradient Descent different from Stochastic Gradient Descent?\n",
    "\n",
    "Stochastic Gradient Descent picks a random instance in the training set at every step and computes the gradients based only on that single instance.\n",
    "\n",
    "Instead of computing the gradients based on just one instance as in Stochastic GD, Mini-batch GD computes the gradients on small random sets of instances called minibatches.\n",
    "\n",
    "\n",
    "3) Identify your best-performing version of Gradient Descent and compare the error metrics for test data vs training data. Does this version of gradient descent show signs of overfitting? Explain.\n",
    "\n",
    "My best-performing version of Gradient Descent was the one with the mini-batch size = 2000 with lowest MSE. The difference in the error metrics between the test data vs training data are minimum and the values look similar so this version doesn't show signs of overfitting .\n",
    "\n",
    "\n",
    "4) Explain what the learning rate is for. Even though we did not, why might it be helpful to change the learning rate over time?\n",
    "\n",
    "Learning rate is the size of the steps the gradient descent algorithm takes to reach the local minimum.\n",
    "It might be helpful to change it, as , with a high learning rate the algorithm can cover more ground in each step, but there is a risk of overshooting the lowest point since the slope of the function is constantly changing. Or, with a very low learning rate, the algorithm can confidently move in the direction of the negative gradient since the algorithm is recalculating it so frequently. A low learning rate is more precise, but this time calculating the gradient will be time-consuming, so it will take a very long time to get to the bottom of the cost function.\n",
    "\n",
    "\n",
    "5) Why would a data scientist want to use early stopping in gradient descent? \n",
    "\n",
    "To make sure the model doesn't overfit. This improves the performance of a model up to a point when the model is predicting on a data it hasn't seen before."
   ]
  }
 ],
 "metadata": {
  "kernelspec": {
   "display_name": "Python 3",
   "language": "python",
   "name": "python3"
  },
  "language_info": {
   "codemirror_mode": {
    "name": "ipython",
    "version": 3
   },
   "file_extension": ".py",
   "mimetype": "text/x-python",
   "name": "python",
   "nbconvert_exporter": "python",
   "pygments_lexer": "ipython3",
   "version": "3.6.5"
  }
 },
 "nbformat": 4,
 "nbformat_minor": 2
}
